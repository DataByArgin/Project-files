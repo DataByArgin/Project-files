{
 "cells": [
  {
   "cell_type": "code",
   "execution_count": 2,
   "id": "a4248e9a",
   "metadata": {},
   "outputs": [],
   "source": [
    "# import libraries\n",
    "\n",
    "import bs4\n",
    "from bs4 import BeautifulSoup\n",
    "import requests\n",
    "import time\n",
    "import datetime\n",
    "import smtplib"
   ]
  },
  {
   "cell_type": "code",
   "execution_count": 3,
   "id": "571bb870",
   "metadata": {},
   "outputs": [],
   "source": [
    "# Connect to website\n",
    "\n",
    "URL = 'https://www.amazon.com/Funny-Data-Systems-Business-Analyst/dp/B07FNW9FGJ/ref=sr_1_3?crid=264S4Y21198VK&keywords=data+analyst+tshirt&qid=1703913740&sprefix=data+analyst+tshi%2Caps%2C313&sr=8-3'\n",
    "headers = {\"User-Agent\": \"Mozilla/5.0 (Macintosh; Intel Mac OS X 10_15_7) AppleWebKit/537.36 (KHTML, like Gecko) Chrome/120.0.0.0 Safari/537.36\"\n",
    "           ,\"Accept-Encoding\": \"gzip, deflate\",\n",
    "           \"Accept\": \"text/html,application/xhtml+xml,application/xml;q=0.9,*/*;q=0.8\",\n",
    "           \"DNT\":\"1\",\"Connection\":\"close\", \"Upgrade-Insecure-Requests\":\"1\"\n",
    "          }\n",
    "page = requests.get(URL, headers=headers)\n",
    "soup1 = BeautifulSoup(page.content, \"html.parser\")\n",
    "soup2 = BeautifulSoup(soup1.prettify(), \"html.parser\")\n",
    "title = soup2.find(id='productTitle').get_text()\n",
    "ratings = soup2.find(id='acrCustomerReviewText').get_text()\n",
    "#print(title)\n",
    "#print(ratings)"
   ]
  },
  {
   "cell_type": "code",
   "execution_count": 4,
   "id": "8d10dbb5",
   "metadata": {},
   "outputs": [
    {
     "name": "stdout",
     "output_type": "stream",
     "text": [
      "Funny Got Data MIS Data Systems Business Analyst T-Shirt\n",
      "19 ratings\n"
     ]
    }
   ],
   "source": [
    "title = title.strip()\n",
    "ratings = ratings.strip()\n",
    "print(title)\n",
    "print(ratings)"
   ]
  },
  {
   "cell_type": "code",
   "execution_count": 5,
   "id": "8e4f2667-f832-4cd6-aa03-6cc645ed47a8",
   "metadata": {},
   "outputs": [
    {
     "name": "stdout",
     "output_type": "stream",
     "text": [
      "2024-01-02\n"
     ]
    }
   ],
   "source": [
    "import datetime\n",
    "today = datetime.date.today()\n",
    "print(today)"
   ]
  },
  {
   "cell_type": "code",
   "execution_count": 9,
   "id": "c3336aec",
   "metadata": {},
   "outputs": [],
   "source": [
    "# create CSV file\n",
    "\n",
    "import csv\n",
    "header = ['Date', 'Title', 'Ratings']\n",
    "data = [today, title, ratings]\n",
    "with open('Amazon_Web_Scraping.csv', 'w', newline='', encoding='UTf8') as f:\n",
    "    writer = csv.writer(f)\n",
    "    writer.writerow(header)\n",
    "    writer.writerow(data)"
   ]
  },
  {
   "cell_type": "code",
   "execution_count": 13,
   "id": "9fd96242-c264-41a8-b278-72fe448785a2",
   "metadata": {},
   "outputs": [],
   "source": [
    "# Append data to CSV\n",
    "\n",
    "with open('Amazon_Web_Scraping.csv', 'a+', newline='', encoding='UTf8') as f:\n",
    "    writer = csv.writer(f)\n",
    "    writer.writerow(data)"
   ]
  },
  {
   "cell_type": "code",
   "execution_count": 14,
   "id": "43420095-a8d1-4942-92fd-da9bced5bb2e",
   "metadata": {},
   "outputs": [
    {
     "name": "stdout",
     "output_type": "stream",
     "text": [
      "         Date                                              Title     Ratings\n",
      "0  2024-01-02  Funny Got Data MIS Data Systems Business Analy...  19 ratings\n",
      "1  2024-01-02  Funny Got Data MIS Data Systems Business Analy...  19 ratings\n",
      "2  2024-01-02  Funny Got Data MIS Data Systems Business Analy...  19 ratings\n"
     ]
    }
   ],
   "source": [
    "import pandas as pd\n",
    "df = pd.read_csv('/Users/Argin_Mac/Amazon_Web_Scraping.csv')\n",
    "print(df)"
   ]
  },
  {
   "cell_type": "code",
   "execution_count": 18,
   "id": "b3ae5d68-1cae-4b25-a7d3-4f73a7a4f565",
   "metadata": {},
   "outputs": [],
   "source": [
    "#  Create a custom function for the whole process.\n",
    "\n",
    "def check_listing():\n",
    "    URL = 'https://www.amazon.com/Funny-Data-Systems-Business-Analyst/dp/B07FNW9FGJ/ref=sr_1_3?crid=264S4Y21198VK&keywords=data+analyst+tshirt&qid=1703913740&sprefix=data+analyst+tshi%2Caps%2C313&sr=8-3'\n",
    "    headers = {\"User-Agent\": \"Mozilla/5.0 (Macintosh; Intel Mac OS X 10_15_7) AppleWebKit/537.36 (KHTML, like Gecko) Chrome/120.0.0.0 Safari/537.36\"\n",
    "               ,\"Accept-Encoding\": \"gzip, deflate\",\n",
    "               \"Accept\": \"text/html,application/xhtml+xml,application/xml;q=0.9,*/*;q=0.8\",\n",
    "               \"DNT\":\"1\",\"Connection\":\"close\", \"Upgrade-Insecure-Requests\":\"1\"\n",
    "              }\n",
    "    page = requests.get(URL, headers=headers)\n",
    "    soup1 = BeautifulSoup(page.content, \"html.parser\")\n",
    "    soup2 = BeautifulSoup(soup1.prettify(), \"html.parser\")\n",
    "    title = soup2.find(id='productTitle').get_text()\n",
    "    ratings = soup2.find(id='acrCustomerReviewText').get_text()\n",
    "    title = title.strip()\n",
    "    ratings = ratings.strip()\n",
    "    import datetime\n",
    "    today = datetime.date.today()\n",
    "    import csv\n",
    "    header = ['Date', 'Title', 'Ratings']\n",
    "    data = [today, title, ratings]\n",
    "    with open('Amazon_Web_Scraping.csv', 'a+', newline='', encoding='UTf8') as f:\n",
    "        writer = csv.writer(f)\n",
    "        writer.writerow(data)"
   ]
  },
  {
   "cell_type": "code",
   "execution_count": 30,
   "id": "ce397e29-879e-4a62-a412-8a3c4e3d6eb9",
   "metadata": {},
   "outputs": [],
   "source": [
    "# Check listing everyday.\n",
    "\n",
    "while(True):\n",
    "    check_listing()\n",
    "    df = pd.read_csv('/Users/Argin_Mac/Amazon_Web_Scraping.csv')\n",
    "    print(df)\n",
    "    time.sleep(86400)"
   ]
  },
  {
   "cell_type": "code",
   "execution_count": null,
   "id": "e82f805d-e97f-4945-842d-37a256044879",
   "metadata": {},
   "outputs": [],
   "source": []
  }
 ],
 "metadata": {
  "kernelspec": {
   "display_name": "Python 3 (ipykernel)",
   "language": "python",
   "name": "python3"
  },
  "language_info": {
   "codemirror_mode": {
    "name": "ipython",
    "version": 3
   },
   "file_extension": ".py",
   "mimetype": "text/x-python",
   "name": "python",
   "nbconvert_exporter": "python",
   "pygments_lexer": "ipython3",
   "version": "3.9.18"
  }
 },
 "nbformat": 4,
 "nbformat_minor": 5
}
